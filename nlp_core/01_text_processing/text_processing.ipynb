{
 "cells": [
  {
   "cell_type": "markdown",
   "id": "08193fee",
   "metadata": {},
   "source": [
    "# Text Processing — Foundations & Practical Pipeline\n"
   ]
  },
  {
   "cell_type": "code",
   "execution_count": 6,
   "id": "607bcbfb",
   "metadata": {},
   "outputs": [
    {
     "name": "stdout",
     "output_type": "stream",
     "text": [
      "Requirement already satisfied: ftfy in c:\\users\\patta\\desktop\\nlp\\nlp_masterrepo\\venv_nlp\\lib\\site-packages (6.3.1)\n",
      "Requirement already satisfied: unidecode in c:\\users\\patta\\desktop\\nlp\\nlp_masterrepo\\venv_nlp\\lib\\site-packages (1.4.0)\n",
      "Requirement already satisfied: wcwidth in c:\\users\\patta\\desktop\\nlp\\nlp_masterrepo\\venv_nlp\\lib\\site-packages (from ftfy) (0.2.14)\n",
      "Note: you may need to restart the kernel to use updated packages.\n"
     ]
    },
    {
     "name": "stderr",
     "output_type": "stream",
     "text": [
      "\n",
      "[notice] A new release of pip is available: 24.0 -> 25.2\n",
      "[notice] To update, run: python.exe -m pip install --upgrade pip\n"
     ]
    }
   ],
   "source": [
    "%pip install -U ftfy unidecode"
   ]
  },
  {
   "cell_type": "code",
   "execution_count": 7,
   "id": "a374b704",
   "metadata": {},
   "outputs": [],
   "source": [
    "# Imports\n",
    "import re   \n",
    "import string\n",
    "import html\n",
    "from bs4 import BeautifulSoup\n",
    "from unidecode import unidecode\n",
    "import ftfy                         # fixes mojibake / messy unicode\n",
    "from langdetect import detect, DetectorFactory\n",
    "DetectorFactory.seed = 0           # reproducibility for language detection\n",
    "import nltk\n",
    "from nltk.corpus import stopwords\n",
    "from nltk.stem import PorterStemmer, SnowballStemmer, WordNetLemmatizer\n",
    "import spacy\n",
    "from collections import Counter\n",
    "from typing import List, Optional, Union\n",
    "import pandas as pd"
   ]
  },
  {
   "cell_type": "code",
   "execution_count": 3,
   "id": "71f321f1",
   "metadata": {},
   "outputs": [
    {
     "name": "stderr",
     "output_type": "stream",
     "text": [
      "[nltk_data] Downloading package punkt to\n",
      "[nltk_data]     C:\\Users\\patta\\AppData\\Roaming\\nltk_data...\n",
      "[nltk_data]   Package punkt is already up-to-date!\n",
      "[nltk_data] Downloading package stopwords to\n",
      "[nltk_data]     C:\\Users\\patta\\AppData\\Roaming\\nltk_data...\n"
     ]
    },
    {
     "name": "stdout",
     "output_type": "stream",
     "text": [
      "spaCy `en_core_web_sm` not found. Run: python -m spacy download en_core_web_sm\n",
      "Setup complete.\n"
     ]
    },
    {
     "name": "stderr",
     "output_type": "stream",
     "text": [
      "[nltk_data]   Unzipping corpora\\stopwords.zip.\n",
      "[nltk_data] Downloading package wordnet to\n",
      "[nltk_data]     C:\\Users\\patta\\AppData\\Roaming\\nltk_data...\n",
      "[nltk_data]   Package wordnet is already up-to-date!\n",
      "[nltk_data] Downloading package omw-1.4 to\n",
      "[nltk_data]     C:\\Users\\patta\\AppData\\Roaming\\nltk_data...\n",
      "[nltk_data]   Package omw-1.4 is already up-to-date!\n"
     ]
    }
   ],
   "source": [
    "# Ensure NLTK resources are available\n",
    "nltk.download('punkt')\n",
    "nltk.download('stopwords')\n",
    "nltk.download('wordnet')\n",
    "nltk.download('omw-1.4')\n",
    "\n",
    "# Load spaCy small model (download if needed)\n",
    "try:\n",
    "    nlp = spacy.load(\"en_core_web_sm\")\n",
    "except Exception:\n",
    "    # If not installed, instruct the developer to download\n",
    "    print(\"spaCy `en_core_web_sm` not found. Run: python -m spacy download en_core_web_sm\")\n",
    "    nlp = None\n",
    "\n",
    "print(\"Setup complete.\")"
   ]
  },
  {
   "cell_type": "markdown",
   "id": "6ac58d78",
   "metadata": {},
   "source": [
    "We'll use small representative examples (emails, social text, HTML snippets) to demonstrate cleaning decisions.\n"
   ]
  },
  {
   "cell_type": "code",
   "execution_count": 4,
   "id": "323cd46e",
   "metadata": {},
   "outputs": [
    {
     "data": {
      "text/html": [
       "<div>\n",
       "<style scoped>\n",
       "    .dataframe tbody tr th:only-of-type {\n",
       "        vertical-align: middle;\n",
       "    }\n",
       "\n",
       "    .dataframe tbody tr th {\n",
       "        vertical-align: top;\n",
       "    }\n",
       "\n",
       "    .dataframe thead th {\n",
       "        text-align: right;\n",
       "    }\n",
       "</style>\n",
       "<table border=\"1\" class=\"dataframe\">\n",
       "  <thead>\n",
       "    <tr style=\"text-align: right;\">\n",
       "      <th></th>\n",
       "      <th>sample_text</th>\n",
       "    </tr>\n",
       "  </thead>\n",
       "  <tbody>\n",
       "    <tr>\n",
       "      <th>0</th>\n",
       "      <td>Hello John,&lt;br&gt;Could you review the report? Th...</td>\n",
       "    </tr>\n",
       "    <tr>\n",
       "      <th>1</th>\n",
       "      <td>FREE!!! Buy now &gt;&gt;&gt; cheap watches at http://sp...</td>\n",
       "    </tr>\n",
       "    <tr>\n",
       "      <th>2</th>\n",
       "      <td>Re: [URGENT] Account verification required. Pl...</td>\n",
       "    </tr>\n",
       "    <tr>\n",
       "      <th>3</th>\n",
       "      <td>Here's a non-ascii text: café, naïve, façade, ...</td>\n",
       "    </tr>\n",
       "    <tr>\n",
       "      <th>4</th>\n",
       "      <td>Text with emojis 😃👍 and weird spacing \\t\\n and...</td>\n",
       "    </tr>\n",
       "    <tr>\n",
       "      <th>5</th>\n",
       "      <td>&lt;html&gt;&lt;body&gt;&lt;p&gt;This is &lt;b&gt;bold&lt;/b&gt; and &lt;i&gt;ital...</td>\n",
       "    </tr>\n",
       "  </tbody>\n",
       "</table>\n",
       "</div>"
      ],
      "text/plain": [
       "                                         sample_text\n",
       "0  Hello John,<br>Could you review the report? Th...\n",
       "1  FREE!!! Buy now >>> cheap watches at http://sp...\n",
       "2  Re: [URGENT] Account verification required. Pl...\n",
       "3  Here's a non-ascii text: café, naïve, façade, ...\n",
       "4  Text with emojis 😃👍 and weird spacing \\t\\n and...\n",
       "5  <html><body><p>This is <b>bold</b> and <i>ital..."
      ]
     },
     "execution_count": 4,
     "metadata": {},
     "output_type": "execute_result"
    }
   ],
   "source": [
    "samples = [\n",
    "    \"Hello John,<br>Could you review the report? Thanks! —Mike\\nVisit: https://example.com/report?id=123\",\n",
    "    \"FREE!!! Buy now >>> cheap watches at http://spam.example! Call +1 (555) 123-4567.\",\n",
    "    \"Re: [URGENT] Account verification required. Please login: <a href='http://phish.example'>link</a>\",\n",
    "    \"Here's a non-ascii text: café, naïve, façade, coöperate, résumé, 北京\",\n",
    "    \"Text with emojis 😃👍 and weird spacing \\t\\n and repeated letters looooolllll\",\n",
    "    \"<html><body><p>This is <b>bold</b> and <i>italic</i></p></body></html>\",\n",
    "]\n",
    "pd.Series(samples).to_frame(\"sample_text\")\n"
   ]
  },
  {
   "cell_type": "markdown",
   "id": "a9c2211e",
   "metadata": {},
   "source": [
    "## 1) Text Cleaning — goals & principles\n",
    "\n",
    "**Goals**\n",
    "- Remove artifacts that confuse models (HTML, scripts, email headers, MIME boundaries).\n",
    "- Normalize URLs/emails/phone numbers (either remove or map to special tokens).\n",
    "- Remove excessive whitespace and control characters.\n",
    "- Keep signals essential for task (sometimes URLs or emails are informative — don't always remove).\n",
    "\n",
    "**Principles**\n",
    "- Be **task-aware**: for spam detection, URLs are important; for sentiment, they may not be.\n",
    "- Prefer **token replacement** with normalized placeholders (`<URL>`, `<EMAIL>`) over blind deletion — keeps structural signals.\n",
    "- Keep a log of every transformation (useful for debugging and reversing transformations for explanations).\n"
   ]
  },
  {
   "cell_type": "code",
   "execution_count": null,
   "id": "430e5fa7",
   "metadata": {},
   "outputs": [],
   "source": []
  }
 ],
 "metadata": {
  "kernelspec": {
   "display_name": "venv_nlp",
   "language": "python",
   "name": "python3"
  },
  "language_info": {
   "codemirror_mode": {
    "name": "ipython",
    "version": 3
   },
   "file_extension": ".py",
   "mimetype": "text/x-python",
   "name": "python",
   "nbconvert_exporter": "python",
   "pygments_lexer": "ipython3",
   "version": "3.12.4"
  }
 },
 "nbformat": 4,
 "nbformat_minor": 5
}
